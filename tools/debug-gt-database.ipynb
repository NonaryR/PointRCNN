{
 "cells": [
  {
   "cell_type": "code",
   "execution_count": 11,
   "metadata": {},
   "outputs": [],
   "source": [
    "import pickle\n",
    "from collections import Counter"
   ]
  },
  {
   "cell_type": "code",
   "execution_count": 2,
   "metadata": {},
   "outputs": [],
   "source": [
    "import os, sys\n",
    "sys.path.insert(0, os.path.join(os.path.dirname(os.path.abspath('')), ''))\n",
    "sys.path.insert(0, os.path.join(os.path.dirname(os.path.abspath('')), 'lib/datasets'))\n",
    "sys.path.insert(0, os.path.join(os.path.dirname(os.path.abspath('')), 'lib/net'))"
   ]
  },
  {
   "cell_type": "code",
   "execution_count": 17,
   "metadata": {},
   "outputs": [],
   "source": [
    "gt_database = pickle.load(open('gt_database/val_gt_database_3level_all_debug_val.pkl', 'rb'))"
   ]
  },
  {
   "cell_type": "code",
   "execution_count": 18,
   "metadata": {},
   "outputs": [
    {
     "name": "stdout",
     "output_type": "stream",
     "text": [
      "449\n"
     ]
    }
   ],
   "source": [
    "print(gt_database.__len__())"
   ]
  },
  {
   "cell_type": "code",
   "execution_count": 19,
   "metadata": {
    "scrolled": true
   },
   "outputs": [
    {
     "data": {
      "text/plain": [
       "{'sample_id': '0d652aac4b9d7b6f28503194ce16768507c5722087d1397e37768c8da3e74512',\n",
       " 'cls_type': 'other_vehicle',\n",
       " 'gt_box3d': array([ 3.43,  2.97, 94.37,  3.5 ,  2.9 ,  9.5 , -1.56], dtype=float32),\n",
       " 'points': array([[ 4.8307405 , -0.32397777, 90.189476  ],\n",
       "        [ 4.4977994 , -0.32418776, 90.23542   ],\n",
       "        [ 4.1888475 , -0.32478195, 90.45921   ],\n",
       "        [ 4.0113297 , -0.33239007, 93.79913   ],\n",
       "        [ 3.5475247 , -0.32485145, 90.42405   ],\n",
       "        [ 3.2103667 , -0.32481682, 90.38134   ],\n",
       "        [ 2.8893914 , -0.3247552 , 90.33291   ],\n",
       "        [ 2.5704653 , -0.32481545, 90.343315  ],\n",
       "        [ 4.616967  ,  0.21728194, 90.46343   ],\n",
       "        [ 4.2861276 ,  0.21625948, 90.23614   ],\n",
       "        [ 3.9683285 ,  0.21620417, 90.267426  ],\n",
       "        [ 3.648616  ,  0.21600032, 90.25361   ],\n",
       "        [ 3.3147001 ,  0.21596813, 90.28336   ],\n",
       "        [ 2.9951196 ,  0.2157911 , 90.267265  ],\n",
       "        [ 2.6765518 ,  0.21573007, 90.27805   ],\n",
       "        [ 2.35709   ,  0.21556461, 90.25572   ],\n",
       "        [ 2.0249667 ,  0.21590829, 90.3686    ],\n",
       "        [ 4.578981  ,  0.7564224 , 90.1958    ],\n",
       "        [ 4.2638717 ,  0.7569518 , 90.280174  ],\n",
       "        [ 3.9446015 ,  0.7566873 , 90.279396  ],\n",
       "        [ 3.6263344 ,  0.7566657 , 90.30149   ],\n",
       "        [ 3.2908454 ,  0.7563461 , 90.29105   ],\n",
       "        [ 2.9708    ,  0.7558532 , 90.2589    ],\n",
       "        [ 2.6512382 ,  0.75544965, 90.23361   ],\n",
       "        [ 2.3334293 ,  0.7556343 , 90.26717   ],\n",
       "        [ 4.5633926 ,  1.2931875 , 90.18556   ],\n",
       "        [ 4.2450666 ,  1.2930589 , 90.201805  ],\n",
       "        [ 3.9268193 ,  1.2930046 , 90.22095   ],\n",
       "        [ 3.6036158 ,  1.2910469 , 90.11509   ],\n",
       "        [ 3.2726235 ,  1.2922512 , 90.212494  ],\n",
       "        [ 2.9539824 ,  1.2920517 , 90.216255  ],\n",
       "        [ 2.6354122 ,  1.2919269 , 90.222885  ],\n",
       "        [ 2.4255786 ,  1.3570492 , 94.446495  ],\n",
       "        [ 4.6948    ,  1.8402361 , 90.49934   ],\n",
       "        [ 4.3616056 ,  1.8339475 , 90.22845   ],\n",
       "        [ 4.0451612 ,  1.834771  , 90.28793   ],\n",
       "        [ 3.7159956 ,  1.8291935 , 90.04666   ],\n",
       "        [ 3.3736663 ,  1.8241402 , 89.82888   ],\n",
       "        [ 3.0562596 ,  1.8238065 , 89.828995  ],\n",
       "        [ 2.752425  ,  1.8329773 , 90.27169   ],\n",
       "        [ 2.4336953 ,  1.8327549 , 90.27362   ],\n",
       "        [ 2.0990672 ,  1.8325438 , 90.27482   ],\n",
       "        [ 4.1872506 ,  2.3695507 , 90.1266    ],\n",
       "        [ 2.2612188 ,  2.367249  , 90.13204   ]], dtype=float32),\n",
       " 'intensity': array([100., 100., 100., 100., 100., 100., 100., 100., 100., 100., 100.,\n",
       "        100., 100., 100., 100., 100., 100., 100., 100., 100., 100., 100.,\n",
       "        100., 100., 100., 100., 100., 100., 100., 100., 100., 100., 100.,\n",
       "        100., 100., 100., 100., 100., 100., 100., 100., 100., 100., 100.],\n",
       "       dtype=float32),\n",
       " 'obj': <lib.utils.object3d.Object3d at 0x7f6bec3b07d0>}"
      ]
     },
     "execution_count": 19,
     "metadata": {},
     "output_type": "execute_result"
    }
   ],
   "source": [
    "gt_database[0]"
   ]
  },
  {
   "cell_type": "code",
   "execution_count": 20,
   "metadata": {},
   "outputs": [],
   "source": [
    "labels = []\n",
    "for d in gt_database:\n",
    "    labels.append(d['cls_type'])"
   ]
  },
  {
   "cell_type": "code",
   "execution_count": 21,
   "metadata": {},
   "outputs": [
    {
     "data": {
      "text/plain": [
       "Counter({'other_vehicle': 29,\n",
       "         'car': 383,\n",
       "         'bus': 9,\n",
       "         'truck': 11,\n",
       "         'bicycle': 17})"
      ]
     },
     "execution_count": 21,
     "metadata": {},
     "output_type": "execute_result"
    }
   ],
   "source": [
    "Counter(labels)"
   ]
  },
  {
   "cell_type": "code",
   "execution_count": 22,
   "metadata": {},
   "outputs": [],
   "source": [
    "samples = []\n",
    "for d in gt_database:\n",
    "    samples.append(d['sample_id'])"
   ]
  },
  {
   "cell_type": "code",
   "execution_count": 23,
   "metadata": {},
   "outputs": [
    {
     "data": {
      "text/plain": [
       "(449, 48)"
      ]
     },
     "execution_count": 23,
     "metadata": {},
     "output_type": "execute_result"
    }
   ],
   "source": [
    "len(samples), len(set(samples))"
   ]
  },
  {
   "cell_type": "code",
   "execution_count": null,
   "metadata": {},
   "outputs": [],
   "source": []
  }
 ],
 "metadata": {
  "kernelspec": {
   "display_name": "Python [conda env:kaggle] *",
   "language": "python",
   "name": "conda-env-kaggle-py"
  },
  "language_info": {
   "codemirror_mode": {
    "name": "ipython",
    "version": 3
   },
   "file_extension": ".py",
   "mimetype": "text/x-python",
   "name": "python",
   "nbconvert_exporter": "python",
   "pygments_lexer": "ipython3",
   "version": "3.7.4"
  }
 },
 "nbformat": 4,
 "nbformat_minor": 2
}
